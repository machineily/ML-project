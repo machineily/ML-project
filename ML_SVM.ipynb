{
 "cells": [
  {
   "cell_type": "code",
   "execution_count": 1,
   "id": "a0262815",
   "metadata": {},
   "outputs": [],
   "source": [
    "import numpy as np\n",
    "import matplotlib.pyplot as plt \n",
    "from sklearn import preprocessing # preprossing is what we do with the data before we run the learning algorithm\n",
    "from sklearn import svm\n",
    "from sklearn.preprocessing import StandardScaler  # It is important in neural networks to scale the date\n",
    "from sklearn.model_selection import train_test_split  # The standard - train/test to prevent overfitting and choose hyperparameters\n",
    "from sklearn.metrics import accuracy_score \n",
    "import pandas as pd\n",
    "from itertools import combinations"
   ]
  },
  {
   "cell_type": "code",
   "execution_count": 2,
   "id": "756d1470",
   "metadata": {},
   "outputs": [],
   "source": [
    "from sklearn import metrics\n",
    "import warnings\n",
    "warnings.filterwarnings(\"ignore\")"
   ]
  },
  {
   "cell_type": "code",
   "execution_count": 3,
   "id": "f1714714",
   "metadata": {},
   "outputs": [],
   "source": [
    "df=pd.read_csv(\"dataset.csv\",low_memory=False)"
   ]
  },
  {
   "cell_type": "code",
   "execution_count": 4,
   "id": "f62dfab0",
   "metadata": {},
   "outputs": [],
   "source": [
    "X=df.iloc[:,:-1]\n",
    "y=df.iloc[:,-1]"
   ]
  },
  {
   "cell_type": "code",
   "execution_count": 5,
   "id": "13efed06",
   "metadata": {},
   "outputs": [],
   "source": [
    "#Split the data into training and test set\n",
    "#X_train, X_test, y_train, y_test = train_test_split(X, y, test_size=0.25,random_state=42)\n",
    "X_train, X_test, y_train, y_test = train_test_split(X, y, test_size=0.25,random_state=42)\n",
    "#y_train=y_train.to_numpy()\n",
    "#y_test=y_test.to_numpy()"
   ]
  },
  {
   "cell_type": "code",
   "execution_count": null,
   "id": "5dd9e0a9",
   "metadata": {},
   "outputs": [],
   "source": [
    "degree_lst=[5,10,15,20]\n",
    "C_lst=[0.1,0.5,1,10,100]\n",
    "train_score=[]\n",
    "test_score=[]\n",
    "for degree in degree_lst:\n",
    "    for c in C_lst:\n",
    "        predictor = svm.SVC(degree=degree, C=c, max_iter=10000, kernel='poly')\n",
    "        predictor.fit(X_train, y_train)\n",
    "        train_score.append(predictor.score(X_train,y_train))\n",
    "        test_score.append(predictor.score(X_test,y_test))"
   ]
  },
  {
   "cell_type": "code",
   "execution_count": 7,
   "id": "2a8756ee",
   "metadata": {},
   "outputs": [
    {
     "data": {
      "text/plain": [
       "[0.4297015185896317,\n",
       " 0.43224297434107173,\n",
       " 0.43747949031244543,\n",
       " 0.36573223948333045,\n",
       " 0.22919183103508467,\n",
       " 0.4297015185896317,\n",
       " 0.43224297434107173,\n",
       " 0.43747949031244543,\n",
       " 0.36573223948333045,\n",
       " 0.22919183103508467,\n",
       " 0.4297015185896317,\n",
       " 0.43224297434107173,\n",
       " 0.43747949031244543,\n",
       " 0.36573223948333045,\n",
       " 0.22919183103508467,\n",
       " 0.4297015185896317,\n",
       " 0.43224297434107173,\n",
       " 0.43747949031244543,\n",
       " 0.36573223948333045,\n",
       " 0.22919183103508467]"
      ]
     },
     "execution_count": 7,
     "metadata": {},
     "output_type": "execute_result"
    }
   ],
   "source": [
    "train_score"
   ]
  },
  {
   "cell_type": "code",
   "execution_count": 8,
   "id": "e8c8fb15",
   "metadata": {},
   "outputs": [
    {
     "data": {
      "text/plain": [
       "[0.43391562984374343,\n",
       " 0.4330149553851954,\n",
       " 0.43735076033681036,\n",
       " 0.3668677474760169,\n",
       " 0.22969293284738804,\n",
       " 0.43391562984374343,\n",
       " 0.4330149553851954,\n",
       " 0.43735076033681036,\n",
       " 0.3668677474760169,\n",
       " 0.22969293284738804,\n",
       " 0.43391562984374343,\n",
       " 0.4330149553851954,\n",
       " 0.43735076033681036,\n",
       " 0.3668677474760169,\n",
       " 0.22969293284738804,\n",
       " 0.43391562984374343,\n",
       " 0.4330149553851954,\n",
       " 0.43735076033681036,\n",
       " 0.3668677474760169,\n",
       " 0.22969293284738804]"
      ]
     },
     "execution_count": 8,
     "metadata": {},
     "output_type": "execute_result"
    }
   ],
   "source": [
    "test_score"
   ]
  },
  {
   "cell_type": "code",
   "execution_count": 10,
   "id": "2c02f138",
   "metadata": {},
   "outputs": [
    {
     "name": "stdout",
     "output_type": "stream",
     "text": [
      "0.5555873625414558\n",
      "0.5572451929119014\n",
      "---\n",
      "0.7163833129691045\n",
      "0.72043483725022\n",
      "---\n",
      "0.777650549834177\n",
      "0.781555024925642\n",
      "---\n",
      "0.847875720020946\n",
      "0.8484143940346026\n",
      "---\n",
      "0.6155699074882178\n",
      "0.6152863306941477\n",
      "---\n"
     ]
    }
   ],
   "source": [
    "C_lst=[0.1,0.5,1,10,100]\n",
    "for c in C_lst:\n",
    "    predictor = svm.SVC(C=c, max_iter=10000, kernel='rbf')\n",
    "    predictor.fit(X_train, y_train)\n",
    "    print(predictor.score(X_train,y_train))\n",
    "    print(predictor.score(X_test,y_test))\n",
    "    print(\"---\")"
   ]
  },
  {
   "cell_type": "code",
   "execution_count": null,
   "id": "5ee89115",
   "metadata": {},
   "outputs": [],
   "source": [
    "predictor.score(X_test,y_test)"
   ]
  },
  {
   "cell_type": "code",
   "execution_count": 21,
   "id": "51418202",
   "metadata": {},
   "outputs": [],
   "source": [
    "result = predictor.predict(X_train)"
   ]
  },
  {
   "cell_type": "code",
   "execution_count": 22,
   "id": "9b916895",
   "metadata": {},
   "outputs": [
    {
     "data": {
      "text/plain": [
       "array([1, 1, 1, ..., 1, 1, 3], dtype=int64)"
      ]
     },
     "execution_count": 22,
     "metadata": {},
     "output_type": "execute_result"
    }
   ],
   "source": [
    "result"
   ]
  },
  {
   "cell_type": "code",
   "execution_count": null,
   "id": "a7ca2ed1",
   "metadata": {},
   "outputs": [],
   "source": [
    "from sklearn.metrics import f1_score\n",
    "print(\"F-score: {0:.2f}\".format(f1_score(result,y_train)))"
   ]
  },
  {
   "cell_type": "code",
   "execution_count": null,
   "id": "6981455c",
   "metadata": {},
   "outputs": [],
   "source": []
  }
 ],
 "metadata": {
  "kernelspec": {
   "display_name": "Python 3 (ipykernel)",
   "language": "python",
   "name": "python3"
  },
  "language_info": {
   "codemirror_mode": {
    "name": "ipython",
    "version": 3
   },
   "file_extension": ".py",
   "mimetype": "text/x-python",
   "name": "python",
   "nbconvert_exporter": "python",
   "pygments_lexer": "ipython3",
   "version": "3.8.10"
  }
 },
 "nbformat": 4,
 "nbformat_minor": 5
}
