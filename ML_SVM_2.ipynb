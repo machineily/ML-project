{
 "cells": [
  {
   "cell_type": "code",
   "execution_count": 5,
   "id": "a0262815",
   "metadata": {},
   "outputs": [],
   "source": [
    "import numpy as np\n",
    "import matplotlib.pyplot as plt \n",
    "from sklearn import preprocessing # preprossing is what we do with the data before we run the learning algorithm\n",
    "from sklearn import svm\n",
    "from sklearn.preprocessing import StandardScaler  # It is important in neural networks to scale the date\n",
    "from sklearn.model_selection import train_test_split  # The standard - train/test to prevent overfitting and choose hyperparameters\n",
    "from sklearn.metrics import accuracy_score \n",
    "import pandas as pd\n",
    "from itertools import combinations"
   ]
  },
  {
   "cell_type": "code",
   "execution_count": 6,
   "id": "756d1470",
   "metadata": {},
   "outputs": [],
   "source": [
    "from sklearn import metrics\n",
    "import warnings\n",
    "warnings.filterwarnings(\"ignore\")"
   ]
  },
  {
   "cell_type": "code",
   "execution_count": 7,
   "id": "f1714714",
   "metadata": {},
   "outputs": [],
   "source": [
    "df=pd.read_csv(\"dataset.csv\",low_memory=False)"
   ]
  },
  {
   "cell_type": "code",
   "execution_count": 8,
   "id": "f62dfab0",
   "metadata": {},
   "outputs": [],
   "source": [
    "X=df.iloc[:,:-1]\n",
    "y=df.iloc[:,-1]"
   ]
  },
  {
   "cell_type": "code",
   "execution_count": 5,
   "id": "13efed06",
   "metadata": {},
   "outputs": [],
   "source": [
    "#Split the data into training and test set\n",
    "#X_train, X_test, y_train, y_test = train_test_split(X, y, test_size=0.25,random_state=42)\n",
    "X_train, X_test, y_train, y_test = train_test_split(X, y, test_size=0.25,random_state=42)\n",
    "#y_train=y_train.to_numpy()\n",
    "#y_test=y_test.to_numpy()"
   ]
  },
  {
   "cell_type": "code",
   "execution_count": 6,
   "id": "5dd9e0a9",
   "metadata": {},
   "outputs": [],
   "source": [
    "C_lst=[5,10,15,20,25]\n",
    "train_score=[]\n",
    "test_score=[]\n",
    "for c in C_lst:\n",
    "    predictor = svm.SVC(C=c, max_iter=10000, kernel='rbf')\n",
    "    predictor.fit(X_train, y_train)\n",
    "    train_score.append(predictor.score(X_train,y_train))\n",
    "    test_score.append(predictor.score(X_test,y_test))"
   ]
  },
  {
   "cell_type": "code",
   "execution_count": 7,
   "id": "6de2e754",
   "metadata": {},
   "outputs": [
    {
     "data": {
      "text/plain": [
       "[0.8367952522255193,\n",
       " 0.847875720020946,\n",
       " 0.850877989177867,\n",
       " 0.8517228137545819,\n",
       " 0.8552417524873451]"
      ]
     },
     "execution_count": 7,
     "metadata": {},
     "output_type": "execute_result"
    }
   ],
   "source": [
    "train_score"
   ]
  },
  {
   "cell_type": "code",
   "execution_count": 8,
   "id": "e9116f55",
   "metadata": {},
   "outputs": [
    {
     "data": {
      "text/plain": [
       "[0.8376481923673076,\n",
       " 0.8484143940346026,\n",
       " 0.8511164174102468,\n",
       " 0.8525197938921704,\n",
       " 0.8545934397385949]"
      ]
     },
     "execution_count": 8,
     "metadata": {},
     "output_type": "execute_result"
    }
   ],
   "source": [
    "test_score"
   ]
  },
  {
   "cell_type": "code",
   "execution_count": 9,
   "id": "c68082be",
   "metadata": {},
   "outputs": [],
   "source": [
    "scaler=preprocessing.StandardScaler()\n",
    "#scaler=preprocessing.RobustScaler()\n",
    "#scaler=preprocessing.MinMaxScaler()\n",
    "X_scale=scaler.fit_transform(X)"
   ]
  },
  {
   "cell_type": "code",
   "execution_count": 10,
   "id": "657e4f3e",
   "metadata": {},
   "outputs": [],
   "source": [
    "#Split the data into training and test set\n",
    "#X_train, X_test, y_train, y_test = train_test_split(X, y, test_size=0.25,random_state=42)\n",
    "X_train, X_test, y_train, y_test = train_test_split(X_scale, y, test_size=0.25,random_state=42)"
   ]
  },
  {
   "cell_type": "code",
   "execution_count": 11,
   "id": "03f54cc5",
   "metadata": {},
   "outputs": [],
   "source": [
    "C_lst=[5,10,15,20,25]\n",
    "train_scale_score=[]\n",
    "test_scale_score=[]\n",
    "for c in C_lst:\n",
    "    predictor = svm.SVC(C=c, max_iter=10000, kernel='rbf')\n",
    "    predictor.fit(X_train, y_train)\n",
    "    train_scale_score.append(predictor.score(X_train,y_train))\n",
    "    test_scale_score.append(predictor.score(X_test,y_test))"
   ]
  },
  {
   "cell_type": "code",
   "execution_count": 12,
   "id": "36c2e8c0",
   "metadata": {},
   "outputs": [
    {
     "name": "stdout",
     "output_type": "stream",
     "text": [
      "[0.8526933147146099, 0.8597521382440216, 0.8676488043288532, 0.866077849537441, 0.8656449642171409] [0.8527083071509363, 0.8589920824431319, 0.86535964140589, 0.8643332914414981, 0.8626995098655272]\n"
     ]
    }
   ],
   "source": [
    "print(train_scale_score,test_scale_score)"
   ]
  },
  {
   "cell_type": "code",
   "execution_count": 13,
   "id": "1a9cc660",
   "metadata": {},
   "outputs": [],
   "source": [
    "new_X=np.square(X)\n",
    "scaler=preprocessing.StandardScaler()\n",
    "X_scale=scaler.fit_transform(new_X)\n",
    "#Split the data into training and test set\n",
    "#X_train, X_test, y_train, y_test = train_test_split(X, y, test_size=0.25,random_state=42)\n",
    "X_train, X_test, y_train, y_test = train_test_split(X_scale, y, test_size=0.25,random_state=42)\n",
    "C_lst=[5,10,15,20,25]\n",
    "train_scale_2_score=[]\n",
    "test_scale_2_score=[]\n",
    "for c in C_lst:\n",
    "    predictor = svm.SVC(C=c, max_iter=10000, kernel='rbf')\n",
    "    predictor.fit(X_train, y_train)\n",
    "    train_scale_2_score.append(predictor.score(X_train,y_train))\n",
    "    test_scale_2_score.append(predictor.score(X_test,y_test))"
   ]
  },
  {
   "cell_type": "code",
   "execution_count": 14,
   "id": "c50a279c",
   "metadata": {},
   "outputs": [
    {
     "name": "stdout",
     "output_type": "stream",
     "text": [
      "[0.8068772909757375, 0.8219026008029324, 0.8391342293593995, 0.8283330424157793, 0.8123511956711468] [0.8076117464706128, 0.822043483725022, 0.837690084202589, 0.8256042897239328, 0.8125549830338067]\n"
     ]
    }
   ],
   "source": [
    "print(train_scale_2_score,test_scale_2_score)"
   ]
  },
  {
   "cell_type": "code",
   "execution_count": 24,
   "id": "e3eb23b0",
   "metadata": {},
   "outputs": [],
   "source": [
    "new_X=np.sqrt(X)\n",
    "scaler=preprocessing.StandardScaler()\n",
    "X_scale=scaler.fit_transform(new_X)\n",
    "#Split the data into training and test set\n",
    "#X_train, X_test, y_train, y_test = train_test_split(X, y, test_size=0.25,random_state=42)\n",
    "X_train, X_test, y_train, y_test = train_test_split(X_scale, y, test_size=0.25,random_state=42)\n",
    "C_lst=[5,10,15,20,25,30]\n",
    "train_scale_3_score=[]\n",
    "test_scale_3_score=[]\n",
    "for c in C_lst:\n",
    "    predictor = svm.SVC(C=c, max_iter=10000, kernel='rbf')\n",
    "    predictor.fit(X_train, y_train)\n",
    "    train_scale_3_score.append(predictor.score(X_train,y_train))\n",
    "    test_scale_3_score.append(predictor.score(X_test,y_test))"
   ]
  },
  {
   "cell_type": "code",
   "execution_count": 16,
   "id": "f3ba384d",
   "metadata": {},
   "outputs": [
    {
     "name": "stdout",
     "output_type": "stream",
     "text": [
      "[0.8568545994065282, 0.8647093733635888, 0.868277186245418, 0.8617629603770292, 0.8709513004014662] [0.8558711407146747, 0.8624691047714801, 0.865904235264547, 0.8593900548783042, 0.8676218005110804]\n"
     ]
    }
   ],
   "source": [
    "print(train_scale_3_score,test_scale_3_score)"
   ]
  },
  {
   "cell_type": "code",
   "execution_count": null,
   "id": "ee396db9",
   "metadata": {},
   "outputs": [],
   "source": [
    "plt.plot(C_lst,test_scale_3_score,label=\"test\")\n",
    "plt.plot(C_lst,train_scale_3_score,label=\"train\")\n",
    "plt.title(\"L2 penalty on $\\sqrt{X}$\")\n",
    "plt.xlabel(\"C\")\n",
    "plt.ylabel(\"prediction accuracy\")\n",
    "plt.legend()\n",
    "plt.show()"
   ]
  },
  {
   "cell_type": "code",
   "execution_count": 5,
   "id": "6981455c",
   "metadata": {},
   "outputs": [
    {
     "data": {
      "image/png": "[encoded data removed]",
      "text/plain": [
       "<Figure size 432x288 with 2 Axes>"
      ]
     },
     "metadata": {
      "needs_background": "light"
     },
     "output_type": "display_data"
    }
   ],
   "source": [
    "new_X=np.square(X)\n",
    "scaler=preprocessing.StandardScaler()\n",
    "X_scale=scaler.fit_transform(new_X)\n",
    "#Split the data into training and test set\n",
    "#X_train, X_test, y_train, y_test = train_test_split(X, y, test_size=0.25,random_state=42)\n",
    "X_train, X_test, y_train, y_test = train_test_split(X_scale, y, test_size=0.25,random_state=42)\n",
    "model = svm.SVC(C=25, max_iter=10000, kernel='rbf')\n",
    "model.fit(X_train,y_train)\n",
    "from sklearn.metrics import plot_confusion_matrix\n",
    "plot_confusion_matrix(model, X_test, y_test) \n",
    "plt.title(\"Confusion matrix for $\\sqrt{X}$, C=25,RBF\")\n",
    "plt.show()"
   ]
  },
  {
   "cell_type": "code",
   "execution_count": 9,
   "id": "b96f995a",
   "metadata": {},
   "outputs": [
    {
     "name": "stdout",
     "output_type": "stream",
     "text": [
      "0.2552347704660499\n"
     ]
    }
   ],
   "source": [
    "scaler=preprocessing.StandardScaler()\n",
    "X_scale=scaler.fit_transform(X)\n",
    "#Split the data into training and test set\n",
    "#X_train, X_test, y_train, y_test = train_test_split(X, y, test_size=0.25,random_state=42)\n",
    "X_train, X_test, y_train, y_test = train_test_split(X_scale, y, test_size=0.25,random_state=42)\n",
    "model = svm.SVC(C=25, max_iter=10000, kernel='sigmoid')\n",
    "model.fit(X_train,y_train)\n",
    "print(model.score(X_train,y_train))"
   ]
  },
  {
   "cell_type": "code",
   "execution_count": 10,
   "id": "e0883bd8",
   "metadata": {},
   "outputs": [
    {
     "name": "stdout",
     "output_type": "stream",
     "text": [
      "0.24122883574794904\n"
     ]
    }
   ],
   "source": [
    " scaler=preprocessing.StandardScaler()\n",
    "X_scale=scaler.fit_transform(X)\n",
    "#Split the data into training and test set\n",
    "#X_train, X_test, y_train, y_test = train_test_split(X, y, test_size=0.25,random_state=42)\n",
    "X_train, X_test, y_train, y_test = train_test_split(X_scale, y, test_size=0.25,random_state=42)\n",
    "model = svm.SVC(C=15, max_iter=10000, kernel='sigmoid')\n",
    "model.fit(X_train,y_train)\n",
    "print(model.score(X_train,y_train))"
   ]
  },
  {
   "cell_type": "code",
   "execution_count": null,
   "id": "6036f4a6",
   "metadata": {},
   "outputs": [],
   "source": []
  }
 ],
 "metadata": {
  "kernelspec": {
   "display_name": "Python 3 (ipykernel)",
   "language": "python",
   "name": "python3"
  },
  "language_info": {
   "codemirror_mode": {
    "name": "ipython",
    "version": 3
   },
   "file_extension": ".py",
   "mimetype": "text/x-python",
   "name": "python",
   "nbconvert_exporter": "python",
   "pygments_lexer": "ipython3",
   "version": "3.10.2"
  }
 },
 "nbformat": 4,
 "nbformat_minor": 5
}
